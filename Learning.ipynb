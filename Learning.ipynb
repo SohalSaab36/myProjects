{
 "cells": [
  {
   "cell_type": "markdown",
   "id": "cfda0953-693f-477c-ae6b-ede317eff990",
   "metadata": {},
   "source": [
    "# CH 1 INTRODUCTION"
   ]
  },
  {
   "cell_type": "code",
   "execution_count": 1,
   "id": "4b4a6b72-7b41-4e1c-a451-58dfaf23c675",
   "metadata": {},
   "outputs": [],
   "source": [
    "import numpy as np"
   ]
  },
  {
   "cell_type": "code",
   "execution_count": 2,
   "id": "c137b030-5301-48da-81c6-80201494ca04",
   "metadata": {},
   "outputs": [],
   "source": [
    "myArr = np.array([[5,6,34,2]])"
   ]
  },
  {
   "cell_type": "code",
   "execution_count": 3,
   "id": "a77d7c0a-91f9-45b8-a14f-a93b6efe16e9",
   "metadata": {},
   "outputs": [
    {
     "data": {
      "text/plain": [
       "array([ 5,  6, 34,  2])"
      ]
     },
     "execution_count": 3,
     "metadata": {},
     "output_type": "execute_result"
    }
   ],
   "source": [
    "myArr[0]"
   ]
  },
  {
   "cell_type": "code",
   "execution_count": 4,
   "id": "be5b6f21-3698-43cd-856d-907733f56e91",
   "metadata": {},
   "outputs": [
    {
     "data": {
      "text/plain": [
       "(1, 4)"
      ]
     },
     "execution_count": 4,
     "metadata": {},
     "output_type": "execute_result"
    }
   ],
   "source": [
    "myArr.shape"
   ]
  },
  {
   "cell_type": "code",
   "execution_count": 5,
   "id": "e34aa2cf-4858-4dae-a958-742d701e7880",
   "metadata": {},
   "outputs": [
    {
     "data": {
      "text/plain": [
       "dtype('int64')"
      ]
     },
     "execution_count": 5,
     "metadata": {},
     "output_type": "execute_result"
    }
   ],
   "source": [
    "myArr.dtype"
   ]
  },
  {
   "cell_type": "code",
   "execution_count": 6,
   "id": "ee28b7a6-a965-4ef5-b07c-2b56c9ebb342",
   "metadata": {},
   "outputs": [],
   "source": [
    "myArr[0,1] =65"
   ]
  },
  {
   "cell_type": "code",
   "execution_count": 7,
   "id": "50660cce-5187-4f4f-873b-2753bfdd1b1c",
   "metadata": {},
   "outputs": [
    {
     "data": {
      "text/plain": [
       "array([[ 5, 65, 34,  2]])"
      ]
     },
     "execution_count": 7,
     "metadata": {},
     "output_type": "execute_result"
    }
   ],
   "source": [
    "myArr"
   ]
  },
  {
   "cell_type": "code",
   "execution_count": null,
   "id": "c557fa94-730c-41c8-847c-5c0b1ab11218",
   "metadata": {},
   "outputs": [],
   "source": []
  }
 ],
 "metadata": {
  "kernelspec": {
   "display_name": "Python 3 (ipykernel)",
   "language": "python",
   "name": "python3"
  },
  "language_info": {
   "codemirror_mode": {
    "name": "ipython",
    "version": 3
   },
   "file_extension": ".py",
   "mimetype": "text/x-python",
   "name": "python",
   "nbconvert_exporter": "python",
   "pygments_lexer": "ipython3",
   "version": "3.12.4"
  }
 },
 "nbformat": 4,
 "nbformat_minor": 5
}
